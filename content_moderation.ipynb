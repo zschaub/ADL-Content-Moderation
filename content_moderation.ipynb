{
  "cells": [
    {
      "cell_type": "code",
      "execution_count": 45,
      "metadata": {
        "colab": {
          "base_uri": "https://localhost:8080/"
        },
        "id": "nm5QsmrdBt7n",
        "outputId": "c3835edd-b810-4fe6-8987-f2e28acc400b"
      },
      "outputs": [
        {
          "name": "stdout",
          "output_type": "stream",
          "text": [
            "Directory already exists. Skipping download and extraction.\n"
          ]
        }
      ],
      "source": [
        "import requests\n",
        "import zipfile\n",
        "import io\n",
        "import os\n",
        "\n",
        "def download_and_extract_zip(url, target_dir):\n",
        "    # Make a GET request to the URL\n",
        "    response = requests.get(url)\n",
        "    \n",
        "    # Raise an exception for a non-200 status code\n",
        "    response.raise_for_status()\n",
        "    \n",
        "    # Create a BytesIO object from the response content\n",
        "    zip_content = io.BytesIO(response.content)\n",
        "    \n",
        "    # Open the ZIP file\n",
        "    with zipfile.ZipFile(zip_content, 'r') as zip_ref:\n",
        "        # Extract all contents to the target directory\n",
        "        zip_ref.extractall(target_dir)\n",
        "    \n",
        "    print(\"Extraction complete.\")\n",
        "\n",
        "# URL of the ZIP file\n",
        "zip_url = \"https://prod-dcd-datasets-cache-zipfiles.s3.eu-west-1.amazonaws.com/9sxpkmm8xn-1.zip\"\n",
        "\n",
        "# Directory where you want to extract the contents\n",
        "target_directory = \"./data\"\n",
        "\n",
        "# Check if the target directory already contains the extracted files\n",
        "if not os.path.exists(target_directory):\n",
        "    os.makedirs(target_directory)\n",
        "    print(\"Directory created.\")\n",
        "    \n",
        "    # Call the function to download and extract the ZIP file\n",
        "    try:\n",
        "        download_and_extract_zip(zip_url, target_directory)\n",
        "    except requests.exceptions.RequestException as e:\n",
        "        print(f\"Failed to download and extract ZIP file: {e}\")\n",
        "else:\n",
        "    print(\"Directory already exists. Skipping download and extraction.\")\n"
      ]
    },
    {
      "cell_type": "code",
      "execution_count": 46,
      "metadata": {
        "colab": {
          "base_uri": "https://localhost:8080/",
          "height": 206
        },
        "id": "u-5uNdZOBt7o",
        "outputId": "7d96be09-547b-4ae3-8850-4266dc501ed9"
      },
      "outputs": [
        {
          "data": {
            "text/html": [
              "<div>\n",
              "<style scoped>\n",
              "    .dataframe tbody tr th:only-of-type {\n",
              "        vertical-align: middle;\n",
              "    }\n",
              "\n",
              "    .dataframe tbody tr th {\n",
              "        vertical-align: top;\n",
              "    }\n",
              "\n",
              "    .dataframe thead th {\n",
              "        text-align: right;\n",
              "    }\n",
              "</style>\n",
              "<table border=\"1\" class=\"dataframe\">\n",
              "  <thead>\n",
              "    <tr style=\"text-align: right;\">\n",
              "      <th></th>\n",
              "      <th>Content</th>\n",
              "      <th>Label</th>\n",
              "    </tr>\n",
              "  </thead>\n",
              "  <tbody>\n",
              "    <tr>\n",
              "      <th>0</th>\n",
              "      <td>`- This is not ``creative``.  Those are the di...</td>\n",
              "      <td>0</td>\n",
              "    </tr>\n",
              "    <tr>\n",
              "      <th>1</th>\n",
              "      <td>`  :: the term ``standard model`` is itself le...</td>\n",
              "      <td>0</td>\n",
              "    </tr>\n",
              "    <tr>\n",
              "      <th>2</th>\n",
              "      <td>True or false, the situation as of March 200...</td>\n",
              "      <td>0</td>\n",
              "    </tr>\n",
              "    <tr>\n",
              "      <th>3</th>\n",
              "      <td>Next, maybe you could work on being less cond...</td>\n",
              "      <td>0</td>\n",
              "    </tr>\n",
              "    <tr>\n",
              "      <th>4</th>\n",
              "      <td>This page will need disambiguation.</td>\n",
              "      <td>0</td>\n",
              "    </tr>\n",
              "  </tbody>\n",
              "</table>\n",
              "</div>"
            ],
            "text/plain": [
              "                                             Content  Label\n",
              "0  `- This is not ``creative``.  Those are the di...      0\n",
              "1  `  :: the term ``standard model`` is itself le...      0\n",
              "2    True or false, the situation as of March 200...      0\n",
              "3   Next, maybe you could work on being less cond...      0\n",
              "4               This page will need disambiguation.       0"
            ]
          },
          "execution_count": 46,
          "metadata": {},
          "output_type": "execute_result"
        }
      ],
      "source": [
        "import pandas as pd\n",
        "\n",
        "# Path to the CSV file\n",
        "csv_file_path = \"./data/A Curated Hate Speech Dataset/HSData/0_RawData/data_huang_devansh.csv\"\n",
        "\n",
        "# Read the CSV file into a Pandas DataFrame\n",
        "df = pd.read_csv(csv_file_path)\n",
        "\n",
        "# Display the first few rows of the DataFrame to check if it's loaded correctly\n",
        "df.head()"
      ]
    },
    {
      "cell_type": "code",
      "execution_count": 47,
      "metadata": {
        "colab": {
          "base_uri": "https://localhost:8080/"
        },
        "id": "GrhQFz0oBt7o",
        "outputId": "81bd1732-dbd6-42da-b2f0-8b4460782785"
      },
      "outputs": [
        {
          "name": "stdout",
          "output_type": "stream",
          "text": [
            "Label Counts:\n",
            "Label\n",
            "0    708641\n",
            "1    133694\n",
            "Name: count, dtype: int64\n"
          ]
        }
      ],
      "source": [
        "# Count the occurrences of each label\n",
        "label_counts = df['Label'].value_counts()\n",
        "\n",
        "# Display the label counts\n",
        "print(\"Label Counts:\")\n",
        "print(label_counts)"
      ]
    },
    {
      "cell_type": "markdown",
      "metadata": {
        "id": "EDUaZB83Bt7p"
      },
      "source": [
        "## Data Preprocessing"
      ]
    },
    {
      "cell_type": "markdown",
      "metadata": {
        "id": "AXa9tpg-Bt7p"
      },
      "source": [
        "1. Remove multiple spaces, hyperlinks, user mentions, emojis, and emoticons converted to text, and removed new line characters\n",
        "2. Removing date and time values\n",
        "3. Removing accented numbers and characters (e.g., ^ea, or ^12)\n",
        "4. The remaining numbers are converted to words\n",
        "5. Removing ampersands from the beginning of words\n",
        "6. Removing the following characters (_\"\\-;%()|+&=*%.,!?:#$@[]/) from the text"
      ]
    },
    {
      "cell_type": "code",
      "execution_count": 48,
      "metadata": {
        "colab": {
          "base_uri": "https://localhost:8080/",
          "height": 206
        },
        "id": "l_XZwKG1Bt7p",
        "outputId": "002e92ff-c5e6-4f06-d9ab-1c3e4efdd66b"
      },
      "outputs": [
        {
          "data": {
            "text/html": [
              "<div>\n",
              "<style scoped>\n",
              "    .dataframe tbody tr th:only-of-type {\n",
              "        vertical-align: middle;\n",
              "    }\n",
              "\n",
              "    .dataframe tbody tr th {\n",
              "        vertical-align: top;\n",
              "    }\n",
              "\n",
              "    .dataframe thead th {\n",
              "        text-align: right;\n",
              "    }\n",
              "</style>\n",
              "<table border=\"1\" class=\"dataframe\">\n",
              "  <thead>\n",
              "    <tr style=\"text-align: right;\">\n",
              "      <th></th>\n",
              "      <th>Content</th>\n",
              "      <th>Label</th>\n",
              "    </tr>\n",
              "  </thead>\n",
              "  <tbody>\n",
              "    <tr>\n",
              "      <th>0</th>\n",
              "      <td>`- This is not ``creative``. Those are the dic...</td>\n",
              "      <td>0</td>\n",
              "    </tr>\n",
              "    <tr>\n",
              "      <th>1</th>\n",
              "      <td>` :: the term ``standard model`` is itself les...</td>\n",
              "      <td>0</td>\n",
              "    </tr>\n",
              "    <tr>\n",
              "      <th>2</th>\n",
              "      <td>True or false, the situation as of March 2002...</td>\n",
              "      <td>0</td>\n",
              "    </tr>\n",
              "    <tr>\n",
              "      <th>3</th>\n",
              "      <td>Next, maybe you could work on being less cond...</td>\n",
              "      <td>0</td>\n",
              "    </tr>\n",
              "    <tr>\n",
              "      <th>4</th>\n",
              "      <td>This page will need disambiguation.</td>\n",
              "      <td>0</td>\n",
              "    </tr>\n",
              "  </tbody>\n",
              "</table>\n",
              "</div>"
            ],
            "text/plain": [
              "                                             Content  Label\n",
              "0  `- This is not ``creative``. Those are the dic...      0\n",
              "1  ` :: the term ``standard model`` is itself les...      0\n",
              "2   True or false, the situation as of March 2002...      0\n",
              "3   Next, maybe you could work on being less cond...      0\n",
              "4               This page will need disambiguation.       0"
            ]
          },
          "execution_count": 48,
          "metadata": {},
          "output_type": "execute_result"
        }
      ],
      "source": [
        "import re\n",
        "\n",
        "def preprocess_text(text):\n",
        "    # Check if the input is a non-null string\n",
        "    if isinstance(text, str) and not pd.isnull(text):\n",
        "        # Remove multiple spaces\n",
        "        text = re.sub(r'\\s+', ' ', text)\n",
        "\n",
        "        # Remove hyperlinks\n",
        "        text = re.sub(r'http\\S+', '', text)\n",
        "\n",
        "        # Remove user mentions (assuming mentions start with @)\n",
        "        text = re.sub(r'@\\w+', '', text)\n",
        "\n",
        "        # Remove emojis and emoticons\n",
        "        emoji_pattern = re.compile(\"[\"\n",
        "                                   u\"\\U0001F600-\\U0001F64F\"  # emoticons\n",
        "                                   # Add more ranges as needed\n",
        "                                   \"]+\", flags=re.UNICODE)\n",
        "        text = emoji_pattern.sub(r'', text)\n",
        "\n",
        "        # Remove new line characters\n",
        "        text = text.replace('\\n', '')\n",
        "\n",
        "        return text\n",
        "    else:\n",
        "        # Return an empty string for NaN values\n",
        "        return ''\n",
        "\n",
        "# Create a new DataFrame with preprocessed content\n",
        "df_preprocessed = pd.DataFrame({\n",
        "    'Content': df['Content'].apply(preprocess_text),\n",
        "    'Label': df['Label']\n",
        "})\n",
        "\n",
        "# Display the first few rows of the new DataFrame\n",
        "df_preprocessed.head()"
      ]
    },
    {
      "cell_type": "code",
      "execution_count": 49,
      "metadata": {
        "colab": {
          "base_uri": "https://localhost:8080/",
          "height": 206
        },
        "id": "vsRRegJBBt7q",
        "outputId": "1419d37c-b53a-4d27-9a4b-71d2357933ca"
      },
      "outputs": [
        {
          "data": {
            "text/html": [
              "<div>\n",
              "<style scoped>\n",
              "    .dataframe tbody tr th:only-of-type {\n",
              "        vertical-align: middle;\n",
              "    }\n",
              "\n",
              "    .dataframe tbody tr th {\n",
              "        vertical-align: top;\n",
              "    }\n",
              "\n",
              "    .dataframe thead th {\n",
              "        text-align: right;\n",
              "    }\n",
              "</style>\n",
              "<table border=\"1\" class=\"dataframe\">\n",
              "  <thead>\n",
              "    <tr style=\"text-align: right;\">\n",
              "      <th></th>\n",
              "      <th>Content</th>\n",
              "      <th>Label</th>\n",
              "    </tr>\n",
              "  </thead>\n",
              "  <tbody>\n",
              "    <tr>\n",
              "      <th>0</th>\n",
              "      <td>This is not creative Those are the dictionary...</td>\n",
              "      <td>0</td>\n",
              "    </tr>\n",
              "    <tr>\n",
              "      <th>1</th>\n",
              "      <td>the term standard model is itself less NPOV ...</td>\n",
              "      <td>0</td>\n",
              "    </tr>\n",
              "    <tr>\n",
              "      <th>2</th>\n",
              "      <td>True or false the situation as of March 2002 w...</td>\n",
              "      <td>0</td>\n",
              "    </tr>\n",
              "    <tr>\n",
              "      <th>3</th>\n",
              "      <td>Next maybe you could work on being less condes...</td>\n",
              "      <td>0</td>\n",
              "    </tr>\n",
              "    <tr>\n",
              "      <th>4</th>\n",
              "      <td>This page will need disambiguation</td>\n",
              "      <td>0</td>\n",
              "    </tr>\n",
              "  </tbody>\n",
              "</table>\n",
              "</div>"
            ],
            "text/plain": [
              "                                             Content  Label\n",
              "0   This is not creative Those are the dictionary...      0\n",
              "1    the term standard model is itself less NPOV ...      0\n",
              "2  True or false the situation as of March 2002 w...      0\n",
              "3  Next maybe you could work on being less condes...      0\n",
              "4                 This page will need disambiguation      0"
            ]
          },
          "execution_count": 49,
          "metadata": {},
          "output_type": "execute_result"
        }
      ],
      "source": [
        "from word2number import w2n  # Library for converting numbers to words\n",
        "from unidecode import unidecode  # Library for removing accented characters\n",
        "\n",
        "# Function to remove date and time values\n",
        "def remove_date_time(text):\n",
        "    # Implement your logic to remove date and time values\n",
        "    # For example, you can use regular expressions to identify and remove them\n",
        "    # Here's a simple example that removes strings with digits and colons\n",
        "    return re.sub(r'\\b\\d{1,2}:\\d{2}\\b|\\b\\d{1,2}/\\d{1,2}/\\d{2,4}\\b', '', text)\n",
        "\n",
        "# Function to remove accented numbers and characters\n",
        "def remove_accented_chars(text):\n",
        "    return unidecode(text)\n",
        "\n",
        "# Function to convert remaining numbers to words\n",
        "def convert_numbers_to_words(text):\n",
        "    # Replace numerical values with their word representations\n",
        "    words = []\n",
        "    for word in text.split():\n",
        "        try:\n",
        "            words.append(w2n.word_to_num(word))\n",
        "        except ValueError:\n",
        "            # Handle the case where w2n.word_to_num raises a ValueError\n",
        "            words.append(word)\n",
        "        except IndexError:\n",
        "            # Handle the case where the list is empty\n",
        "            pass\n",
        "    return ' '.join(map(str, words))\n",
        "\n",
        "# Function to remove ampersands from the beginning of words\n",
        "def remove_ampersands(text):\n",
        "    return re.sub(r'\\b&(\\w+)\\b', r'\\1', text)\n",
        "\n",
        "# Function to remove specified characters from the text\n",
        "def remove_special_characters(text):\n",
        "    special_chars = r'_\"\\\\;%\\(\\)|\\+`&=*%,.!?:#$@[\\]/-'\n",
        "    return re.sub('[' + special_chars + ']', '', text)\n",
        "\n",
        "# Apply the defined functions in sequence to the \"Content\" column\n",
        "df_preprocessed['Content'] = df_preprocessed['Content'].apply(remove_date_time)\n",
        "df_preprocessed['Content'] = df_preprocessed['Content'].apply(remove_accented_chars)\n",
        "df_preprocessed['Content'] = df_preprocessed['Content'].apply(convert_numbers_to_words)\n",
        "df_preprocessed['Content'] = df_preprocessed['Content'].apply(remove_ampersands)\n",
        "df_preprocessed['Content'] = df_preprocessed['Content'].apply(remove_special_characters)\n",
        "\n",
        "# Save the new DataFrame to a CSV file\n",
        "df_preprocessed.to_csv('preprocessed_dataset.csv', mode='w', index=False)\n",
        "\n",
        "# Display the first few rows of the new DataFrame\n",
        "df_preprocessed.head()"
      ]
    },
    {
      "cell_type": "code",
      "execution_count": 50,
      "metadata": {
        "id": "rRYKsVJ2Bt7q"
      },
      "outputs": [],
      "source": [
        "from sklearn.model_selection import train_test_split\n",
        "\n",
        "# Assuming 'df_preprocessed' is your DataFrame with the preprocessed content and labels\n",
        "X = df_preprocessed['Content']\n",
        "y = df_preprocessed['Label']\n",
        "\n",
        "# 60% Train 20% Test 20% Validate\n",
        "# Split the data into training and temporary sets\n",
        "X_train, X_temp, y_train, y_temp = train_test_split(X, y, test_size=0.4, random_state=42)\n",
        "X_validate, X_test, y_validate, y_test = train_test_split(X_temp, y_temp, test_size=0.5, random_state=42)"
      ]
    },
    {
      "cell_type": "markdown",
      "metadata": {
        "id": "Mc9pVxfJBt7q"
      },
      "source": [
        "## Models"
      ]
    },
    {
      "cell_type": "markdown",
      "metadata": {},
      "source": [
        "### Basic Model"
      ]
    },
    {
      "cell_type": "code",
      "execution_count": 31,
      "metadata": {
        "id": "_uR1S39xBt7q"
      },
      "outputs": [],
      "source": [
        "from tensorflow.keras.preprocessing.text import Tokenizer\n",
        "from tensorflow.keras.preprocessing.sequence import pad_sequences\n",
        "\n",
        "# Assuming X_train_temp, y_train_temp, X_validate, y_validate, X_test, and y_test are available\n",
        "tokenizer = Tokenizer()\n",
        "tokenizer.fit_on_texts(X_train)\n",
        "\n",
        "X_train_sequences = tokenizer.texts_to_sequences(X_train)\n",
        "X_validate_sequences = tokenizer.texts_to_sequences(X_validate)\n",
        "X_test_sequences = tokenizer.texts_to_sequences(X_test)\n",
        "\n",
        "vocab_size = len(tokenizer.word_index) + 1  # Adding 1 for the padding token\n",
        "\n",
        "max_sequence_length = 100  # Adjust as needed\n",
        "X_train_padded = pad_sequences(X_train_sequences, maxlen=max_sequence_length, padding='post')\n",
        "X_validate_padded = pad_sequences(X_validate_sequences, maxlen=max_sequence_length, padding='post')\n",
        "X_test_padded = pad_sequences(X_test_sequences, maxlen=max_sequence_length, padding='post')"
      ]
    },
    {
      "cell_type": "code",
      "execution_count": 32,
      "metadata": {
        "colab": {
          "base_uri": "https://localhost:8080/"
        },
        "id": "4oVTbEI5Bt7q",
        "outputId": "e4c5b4c6-26a0-4efa-884b-297130543d26"
      },
      "outputs": [
        {
          "name": "stdout",
          "output_type": "stream",
          "text": [
            "Model: \"sequential_2\"\n",
            "_________________________________________________________________\n",
            " Layer (type)                Output Shape              Param #   \n",
            "=================================================================\n",
            " embedding_2 (Embedding)     (None, 100, 100)          37690300  \n",
            "                                                                 \n",
            " flatten_2 (Flatten)         (None, 10000)             0         \n",
            "                                                                 \n",
            " dense_6 (Dense)             (None, 128)               1280128   \n",
            "                                                                 \n",
            " dropout_4 (Dropout)         (None, 128)               0         \n",
            "                                                                 \n",
            " dense_7 (Dense)             (None, 64)                8256      \n",
            "                                                                 \n",
            " dropout_5 (Dropout)         (None, 64)                0         \n",
            "                                                                 \n",
            " dense_8 (Dense)             (None, 1)                 65        \n",
            "                                                                 \n",
            "=================================================================\n",
            "Total params: 38978749 (148.69 MB)\n",
            "Trainable params: 38978749 (148.69 MB)\n",
            "Non-trainable params: 0 (0.00 Byte)\n",
            "_________________________________________________________________\n"
          ]
        }
      ],
      "source": [
        "from tensorflow.keras.models import Sequential\n",
        "from tensorflow.keras.layers import Embedding, Flatten, Dense, Dropout\n",
        "\n",
        "# Assuming vocab_size, embedding_dim, max_sequence_length, and num_classes are defined\n",
        "\n",
        "basic_model = Sequential()\n",
        "\n",
        "basic_model.add(Embedding(vocab_size, 100, input_length=max_sequence_length))\n",
        "\n",
        "basic_model.add(Flatten())\n",
        "\n",
        "basic_model.add(Dense(128, activation='relu'))\n",
        "basic_model.add(Dropout(0.5))\n",
        "\n",
        "basic_model.add(Dense(64, activation='relu'))\n",
        "basic_model.add(Dropout(0.5))\n",
        "\n",
        "# Output layer with sigmoid activation for binary classification\n",
        "basic_model.add(Dense(1, activation='sigmoid'))\n",
        "\n",
        "# Compile the model\n",
        "basic_model.compile(optimizer='adam', loss='binary_crossentropy', metrics=['accuracy'])\n",
        "\n",
        "# Print model summary\n",
        "basic_model.summary()\n"
      ]
    },
    {
      "cell_type": "code",
      "execution_count": 33,
      "metadata": {
        "colab": {
          "base_uri": "https://localhost:8080/",
          "height": 601
        },
        "id": "rgxYv5SRBt7r",
        "outputId": "01d9d2c7-6531-4d32-c201-63c33491fdc0"
      },
      "outputs": [
        {
          "name": "stdout",
          "output_type": "stream",
          "text": [
            "Epoch 1/10\n",
            "15794/15794 [==============================] - 165s 10ms/step - loss: 0.2562 - accuracy: 0.8962 - val_loss: 0.2133 - val_accuracy: 0.9103\n",
            "Epoch 2/10\n",
            "15794/15794 [==============================] - 131s 8ms/step - loss: 0.1604 - accuracy: 0.9377 - val_loss: 0.2101 - val_accuracy: 0.9184\n",
            "Epoch 3/10\n",
            "15794/15794 [==============================] - 131s 8ms/step - loss: 0.1111 - accuracy: 0.9584 - val_loss: 0.2318 - val_accuracy: 0.9201\n",
            "Epoch 4/10\n",
            "15794/15794 [==============================] - 134s 8ms/step - loss: 0.0860 - accuracy: 0.9679 - val_loss: 0.2436 - val_accuracy: 0.9204\n",
            "Epoch 5/10\n",
            "15794/15794 [==============================] - 123s 8ms/step - loss: 0.0719 - accuracy: 0.9729 - val_loss: 0.2951 - val_accuracy: 0.9194\n",
            "Epoch 6/10\n",
            "15794/15794 [==============================] - 129s 8ms/step - loss: 0.0625 - accuracy: 0.9757 - val_loss: 0.3210 - val_accuracy: 0.9206\n",
            "Epoch 7/10\n",
            "15794/15794 [==============================] - 125s 8ms/step - loss: 0.0565 - accuracy: 0.9779 - val_loss: 0.3396 - val_accuracy: 0.9210\n",
            "Epoch 8/10\n",
            "15794/15794 [==============================] - 115s 7ms/step - loss: 0.0516 - accuracy: 0.9790 - val_loss: 0.4873 - val_accuracy: 0.9190\n",
            "Epoch 9/10\n",
            "15794/15794 [==============================] - 116s 7ms/step - loss: 0.0489 - accuracy: 0.9800 - val_loss: 0.3626 - val_accuracy: 0.9208\n",
            "Epoch 10/10\n",
            "15794/15794 [==============================] - 119s 8ms/step - loss: 0.0459 - accuracy: 0.9806 - val_loss: 0.4504 - val_accuracy: 0.9185\n",
            "5265/5265 [==============================] - 5s 1ms/step - loss: 0.4425 - accuracy: 0.9192\n",
            "Basic Model Test Accuracy: 0.9192482829093933\n"
          ]
        }
      ],
      "source": [
        "basic_model.fit(X_train_padded, y_train, epochs=10, batch_size=32, validation_data=(X_validate_padded, y_validate))\n",
        "\n",
        "b_loss, b_accuracy = basic_model.evaluate(X_test_padded, y_test)\n",
        "print(f'Basic Model Test Accuracy: {b_accuracy}')\n"
      ]
    },
    {
      "cell_type": "code",
      "execution_count": 36,
      "metadata": {},
      "outputs": [
        {
          "name": "stdout",
          "output_type": "stream",
          "text": [
            "5265/5265 [==============================] - 3s 623us/step\n"
          ]
        },
        {
          "data": {
            "image/png": "[encoded data removed]",
            "text/plain": [
              "<Figure size 800x600 with 1 Axes>"
            ]
          },
          "metadata": {},
          "output_type": "display_data"
        },
        {
          "name": "stdout",
          "output_type": "stream",
          "text": [
            "              precision    recall  f1-score   support\n",
            "\n",
            "           0       0.95      0.96      0.95    141718\n",
            "           1       0.76      0.72      0.74     26749\n",
            "\n",
            "    accuracy                           0.92    168467\n",
            "   macro avg       0.85      0.84      0.85    168467\n",
            "weighted avg       0.92      0.92      0.92    168467\n",
            "\n"
          ]
        }
      ],
      "source": [
        "from sklearn.metrics import confusion_matrix, classification_report\n",
        "import seaborn as sns\n",
        "import matplotlib.pyplot as plt\n",
        "\n",
        "# Evaluate the model on the test set\n",
        "y_pred_b = basic_model.predict(X_test_padded)\n",
        "y_pred_classes_b = (y_pred_b > 0.5).astype('int')\n",
        "\n",
        "# Generate a confusion matrix\n",
        "conf_matrix = confusion_matrix(y_test, y_pred_classes_b)\n",
        "\n",
        "# Plot the confusion matrix\n",
        "plt.figure(figsize=(8, 6))\n",
        "sns.heatmap(conf_matrix, annot=True, fmt='d', cmap='Blues', cbar=False,\n",
        "            xticklabels=['Not Hate Speech', 'Hate Speech'],\n",
        "            yticklabels=['Not Hate Speech', 'Hate Speech'])\n",
        "plt.title('Confusion Matrix')\n",
        "plt.xlabel('Predicted')\n",
        "plt.ylabel('True')\n",
        "plt.show()\n",
        "\n",
        "# Print classification report\n",
        "print(classification_report(y_test, y_pred_classes_b))\n"
      ]
    },
    {
      "cell_type": "markdown",
      "metadata": {},
      "source": [
        "### Rules Based Model"
      ]
    },
    {
      "cell_type": "code",
      "execution_count": 51,
      "metadata": {},
      "outputs": [
        {
          "name": "stdout",
          "output_type": "stream",
          "text": [
            "cad_rules.json already exists.\n",
            "hate_abuse_sample.json already exists.\n",
            "hatexplain_rules.json already exists.\n"
          ]
        }
      ],
      "source": [
        "import os\n",
        "import urllib.request\n",
        "\n",
        "# Define the folder name\n",
        "folder_name = 'ruleset'\n",
        "\n",
        "# Check if the folder exists, and create it if not\n",
        "if not os.path.exists(folder_name):\n",
        "    os.makedirs(folder_name)\n",
        "    print(f\"Folder '{folder_name}' created.\")\n",
        "\n",
        "# Define the URLs of the JSON files to download\n",
        "json_files = [\n",
        "    ('cad_rules.json', 'https://raw.githubusercontent.com/ChrisIsKing/Rule-By-Example/main/data/rulesets/cad_rules.json'),\n",
        "    ('hate_abuse_sample.json', 'https://raw.githubusercontent.com/ChrisIsKing/Rule-By-Example/main/data/rulesets/hate_abuse_sample.json'),\n",
        "    ('hatexplain_rules.json', 'https://raw.githubusercontent.com/ChrisIsKing/Rule-By-Example/main/data/rulesets/hatexplain_rules.json')\n",
        "]\n",
        "\n",
        "# Download the JSON files if they don't exist\n",
        "for file_name, url in json_files:\n",
        "    file_path = os.path.join(folder_name, file_name)\n",
        "    \n",
        "    if not os.path.exists(file_path):\n",
        "        print(f\"Downloading {file_name}...\")\n",
        "        urllib.request.urlretrieve(url, file_path)\n",
        "        print(f\"{file_name} downloaded.\")\n",
        "    else:\n",
        "        print(f\"{file_name} already exists.\")\n",
        "\n"
      ]
    },
    {
      "cell_type": "code",
      "execution_count": null,
      "metadata": {},
      "outputs": [],
      "source": [
        "import pandas as pd\n",
        "import os\n",
        "from sklearn.metrics import confusion_matrix, classification_report\n",
        "import seaborn as sns\n",
        "import matplotlib.pyplot as plt\n",
        "\n",
        "# Define the folder name\n",
        "folder_name = 'ruleset'\n",
        "\n",
        "# Check if the folder exists, and create it if not\n",
        "if not os.path.exists(folder_name):\n",
        "    os.makedirs(folder_name)\n",
        "    print(f\"Folder '{folder_name}' created.\")\n",
        "\n",
        "# Define the rulesets\n",
        "ruleset_files = [\n",
        "    'cad_rules.json',\n",
        "    'hate_abuse_sample.json',\n",
        "    'hatexplain_rules.json'\n",
        "]\n",
        "\n",
        "# Load rulesets into DataFrames\n",
        "rulesets = {}\n",
        "for ruleset_file in ruleset_files:\n",
        "    ruleset_path = os.path.join(folder_name, ruleset_file)\n",
        "    ruleset_name = os.path.splitext(ruleset_file)[0]  # Extract ruleset name without extension\n",
        "    \n",
        "    rules = pd.read_json(ruleset_path, typ='series').tolist()  # Load as a list of strings\n",
        "    \n",
        "    # Create a DataFrame with a 'rule' column\n",
        "    ruleset_df = pd.DataFrame({'rule': rules})\n",
        "    \n",
        "    rulesets[ruleset_name] = ruleset_df\n",
        "\n",
        "# Function to apply rules and make predictions\n",
        "def apply_rules(ruleset, text):\n",
        "    for rule in ruleset['rule']:\n",
        "        if rule in text:\n",
        "            return 1  # Violation\n",
        "    return 0  # No violation"
      ]
    },
    {
      "cell_type": "code",
      "execution_count": 60,
      "metadata": {},
      "outputs": [
        {
          "data": {
            "image/png": "[encoded data removed]",
            "text/plain": [
              "<Figure size 800x600 with 1 Axes>"
            ]
          },
          "metadata": {},
          "output_type": "display_data"
        },
        {
          "name": "stdout",
          "output_type": "stream",
          "text": [
            "              precision    recall  f1-score   support\n",
            "\n",
            "           0       0.72      0.03      0.06    141718\n",
            "           1       0.15      0.94      0.27     26749\n",
            "\n",
            "    accuracy                           0.17    168467\n",
            "   macro avg       0.44      0.48      0.16    168467\n",
            "weighted avg       0.63      0.17      0.09    168467\n",
            "\n"
          ]
        }
      ],
      "source": [
        "# Create a new DataFrame to store the results\n",
        "df_rules = pd.DataFrame({'Content': X_test})\n",
        "df_rules['Label'] = y_test\n",
        "\n",
        "# Apply rulesets to df_rules and create predictions\n",
        "for ruleset_name, ruleset_df in rulesets.items():\n",
        "    df_rules[ruleset_name] = df_preprocessed[\"Content\"].apply(lambda text: apply_rules(ruleset_df, text))\n",
        "\n",
        "# Combine predictions from different rulesets\n",
        "df_rules['rules_based_prediction'] = df_rules[rulesets.keys()].max(axis=1)\n",
        "\n",
        "# Create a confusion matrix\n",
        "conf_matrix = confusion_matrix(df_rules['Label'], df_rules['rules_based_prediction'])\n",
        "\n",
        "# Plot the confusion matrix\n",
        "plt.figure(figsize=(8, 6))\n",
        "sns.heatmap(conf_matrix, annot=True, fmt='d', cmap='Blues', cbar=False,\n",
        "            xticklabels=['Not Hate Speech', 'Hate Speech'],\n",
        "            yticklabels=['Not Hate Speech', 'Hate Speech'])\n",
        "plt.title('Confusion Matrix (Rules-Based Model)')\n",
        "plt.xlabel('Predicted Label')\n",
        "plt.ylabel('True Label')\n",
        "plt.show()\n",
        "\n",
        "# Print classification report\n",
        "print(classification_report(df_rules['Label'], df_rules['rules_based_prediction']))\n"
      ]
    }
  ],
  "metadata": {
    "accelerator": "GPU",
    "colab": {
      "gpuType": "T4",
      "provenance": []
    },
    "interpreter": {
      "hash": "b98e62fc36fba69623ae017420bc079ef7773dbe5f00058f9d8193adc20f9093"
    },
    "kernelspec": {
      "display_name": "Python 3.11.5 ('content')",
      "language": "python",
      "name": "python3"
    },
    "language_info": {
      "codemirror_mode": {
        "name": "ipython",
        "version": 3
      },
      "file_extension": ".py",
      "mimetype": "text/x-python",
      "name": "python",
      "nbconvert_exporter": "python",
      "pygments_lexer": "ipython3",
      "version": "3.9.18"
    },
    "orig_nbformat": 4
  },
  "nbformat": 4,
  "nbformat_minor": 0
}
